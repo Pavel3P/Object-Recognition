{
 "cells": [
  {
   "cell_type": "code",
   "execution_count": 1,
   "outputs": [],
   "source": [
    "import json\n",
    "from solver import SudokuSolver"
   ],
   "metadata": {
    "collapsed": false,
    "pycharm": {
     "name": "#%%\n"
    }
   }
  },
  {
   "cell_type": "code",
   "execution_count": 2,
   "outputs": [
    {
     "data": {
      "text/plain": "[[8, 1, 4, 9, 3, 6, 5, 2, 7],\n [5, 6, 2, 7, 8, 1, 4, 9, 3],\n [9, 7, 3, 4, 5, 2, 6, 1, 8],\n [4, 9, 7, 6, 2, 8, 1, 3, 5],\n [2, 5, 1, 3, 9, 7, 8, 6, 4],\n [6, 3, 8, 1, 4, 5, 2, 7, 9],\n [7, 4, 5, 2, 6, 9, 3, 8, 1],\n [3, 2, 9, 8, 1, 4, 7, 5, 6],\n [1, 8, 6, 5, 7, 3, 9, 4, 2]]"
     },
     "execution_count": 2,
     "metadata": {},
     "output_type": "execute_result"
    }
   ],
   "source": [
    "with open(\"data/sudoku_02.json\", \"r\") as file:\n",
    "    table = json.load(file)\n",
    "\n",
    "solver = SudokuSolver(table)\n",
    "solution = solver.solve()\n",
    "\n",
    "solution"
   ],
   "metadata": {
    "collapsed": false,
    "pycharm": {
     "name": "#%%\n"
    }
   }
  }
 ],
 "metadata": {
  "kernelspec": {
   "display_name": "Python 3",
   "language": "python",
   "name": "python3"
  },
  "language_info": {
   "codemirror_mode": {
    "name": "ipython",
    "version": 2
   },
   "file_extension": ".py",
   "mimetype": "text/x-python",
   "name": "python",
   "nbconvert_exporter": "python",
   "pygments_lexer": "ipython2",
   "version": "2.7.6"
  }
 },
 "nbformat": 4,
 "nbformat_minor": 0
}