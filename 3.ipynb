{
 "cells": [
  {
   "cell_type": "code",
   "execution_count": 1,
   "outputs": [],
   "source": [
    "import json\n",
    "from algorithms.csp import SudokuSolver"
   ],
   "metadata": {
    "collapsed": false,
    "pycharm": {
     "name": "#%%\n"
    }
   }
  },
  {
   "cell_type": "code",
   "execution_count": 2,
   "outputs": [
    {
     "data": {
      "text/plain": "[[8, 1, 4, 5, 3, 9, 6, 2, 7],\n [3, 6, 2, 7, 8, 1, 4, 9, 5],\n [5, 7, 9, 2, 6, 4, 8, 1, 3],\n [2, 4, 5, 6, 9, 7, 1, 3, 8],\n [1, 9, 7, 3, 2, 8, 5, 6, 4],\n [6, 3, 8, 1, 4, 5, 2, 7, 9],\n [7, 2, 6, 4, 5, 3, 9, 8, 1],\n [4, 8, 3, 9, 1, 2, 7, 5, 6],\n [9, 5, 1, 8, 7, 6, 3, 4, 2]]"
     },
     "execution_count": 2,
     "metadata": {},
     "output_type": "execute_result"
    }
   ],
   "source": [
    "with open(\"./data/sudoku/sudoku_02.json\", \"r\") as file:\n",
    "    table = json.load(file)\n",
    "\n",
    "solver = SudokuSolver(table)\n",
    "solution = solver.solve()\n",
    "\n",
    "solution"
   ],
   "metadata": {
    "collapsed": false,
    "pycharm": {
     "name": "#%%\n"
    }
   }
  }
 ],
 "metadata": {
  "kernelspec": {
   "display_name": "Python 3",
   "language": "python",
   "name": "python3"
  },
  "language_info": {
   "codemirror_mode": {
    "name": "ipython",
    "version": 2
   },
   "file_extension": ".py",
   "mimetype": "text/x-python",
   "name": "python",
   "nbconvert_exporter": "python",
   "pygments_lexer": "ipython2",
   "version": "2.7.6"
  }
 },
 "nbformat": 4,
 "nbformat_minor": 0
}