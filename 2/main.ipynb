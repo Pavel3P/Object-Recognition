{
 "cells": [
  {
   "cell_type": "markdown",
   "source": [
    "# Lab 2\n",
    "___\n",
    "In current lab we train perceptron for classification of samples\n",
    "from multivariate normal distribution (whether sample belongs to\n",
    "distribution or not)."
   ],
   "metadata": {
    "collapsed": false,
    "pycharm": {
     "name": "#%% md\n"
    }
   }
  },
  {
   "cell_type": "code",
   "execution_count": 1,
   "metadata": {
    "collapsed": true
   },
   "outputs": [],
   "source": [
    "import numpy as np\n",
    "import json\n",
    "from sklearn.metrics import accuracy_score\n",
    "from sklearn.model_selection import train_test_split\n",
    "from perceptron import NormalPerceptron"
   ]
  },
  {
   "cell_type": "markdown",
   "source": [
    "## Read and split data"
   ],
   "metadata": {
    "collapsed": false,
    "pycharm": {
     "name": "#%% md\n"
    }
   }
  },
  {
   "cell_type": "code",
   "execution_count": 2,
   "outputs": [],
   "source": [
    "data = json.load(open(\"data/train_02.json\"))\n",
    "\n",
    "x_inside: np.ndarray = np.array(data[\"inside\"])\n",
    "y_inside: np.ndarray = -np.ones(len(x_inside))\n",
    "\n",
    "x_outside: np.ndarray = np.array(data[\"outside\"])\n",
    "y_outside: np.ndarray = np.ones(len(x_outside))\n",
    "\n",
    "X = np.vstack([x_inside, x_outside])\n",
    "Y = np.concatenate([y_inside, y_outside])\n",
    "\n",
    "X_train, X_test, Y_train, Y_test = train_test_split(X, Y, test_size=.2)"
   ],
   "metadata": {
    "collapsed": false,
    "pycharm": {
     "name": "#%%\n"
    }
   }
  },
  {
   "cell_type": "markdown",
   "source": [
    "## Perceptron initialization and training"
   ],
   "metadata": {
    "collapsed": false,
    "pycharm": {
     "name": "#%% md\n"
    }
   }
  },
  {
   "cell_type": "code",
   "execution_count": 3,
   "outputs": [
    {
     "name": "stdout",
     "output_type": "stream",
     "text": [
      "Location:\n",
      " [ 0.16570928 -0.01340516]\n",
      "Covariance:\n",
      " [[ 0.2692843  -0.01807074]\n",
      " [-0.01807074  0.74792606]]\n"
     ]
    }
   ],
   "source": [
    "perceptron = NormalPerceptron(learning_rate=1)\n",
    "perceptron.train(X_train, Y_train)\n",
    "print(f\"Location:\\n {perceptron.location}\")\n",
    "print(f\"Covariance:\\n {perceptron.covariance}\")"
   ],
   "metadata": {
    "collapsed": false,
    "pycharm": {
     "name": "#%%\n"
    }
   }
  },
  {
   "cell_type": "markdown",
   "source": [
    "## Accuracy"
   ],
   "metadata": {
    "collapsed": false,
    "pycharm": {
     "name": "#%% md\n"
    }
   }
  },
  {
   "cell_type": "code",
   "execution_count": 4,
   "outputs": [
    {
     "data": {
      "text/plain": "1.0"
     },
     "execution_count": 4,
     "metadata": {},
     "output_type": "execute_result"
    }
   ],
   "source": [
    "accuracy_score(Y_test, perceptron.predict(X_test))"
   ],
   "metadata": {
    "collapsed": false,
    "pycharm": {
     "name": "#%%\n"
    }
   }
  }
 ],
 "metadata": {
  "kernelspec": {
   "display_name": "Python 3",
   "language": "python",
   "name": "python3"
  },
  "language_info": {
   "codemirror_mode": {
    "name": "ipython",
    "version": 2
   },
   "file_extension": ".py",
   "mimetype": "text/x-python",
   "name": "python",
   "nbconvert_exporter": "python",
   "pygments_lexer": "ipython2",
   "version": "2.7.6"
  }
 },
 "nbformat": 4,
 "nbformat_minor": 0
}